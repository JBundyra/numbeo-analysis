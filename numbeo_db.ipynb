{
 "cells": [
  {
   "cell_type": "markdown",
   "metadata": {},
   "source": [
    "Importing the necessary libraries"
   ]
  },
  {
   "cell_type": "code",
   "execution_count": 5,
   "metadata": {
    "tags": []
   },
   "outputs": [],
   "source": [
    "import helpers as h\n",
    "import json\n",
    "import pandas as pd\n",
    "import numpy as np\n",
    "import os\n",
    "import sqlite3\n",
    "import sys\n",
    "from tqdm import tqdm"
   ]
  },
  {
   "cell_type": "markdown",
   "metadata": {},
   "source": [
    "Connecting to the database"
   ]
  },
  {
   "cell_type": "code",
   "execution_count": 6,
   "metadata": {
    "tags": []
   },
   "outputs": [],
   "source": [
    "database = os.path.join(\"data\",\"numbeo_db.sqlite\")\n",
    "conn = sqlite3.connect(database)"
   ]
  },
  {
   "cell_type": "markdown",
   "metadata": {},
   "source": [
    "Based on the collected data, a table was generated containing a list of countries with their ID. A table containing data on cities was prepared in a similar way."
   ]
  },
  {
   "cell_type": "code",
   "execution_count": 7,
   "metadata": {
    "tags": []
   },
   "outputs": [
    {
     "data": {
      "text/html": [
       "<div>\n",
       "<style scoped>\n",
       "    .dataframe tbody tr th:only-of-type {\n",
       "        vertical-align: middle;\n",
       "    }\n",
       "\n",
       "    .dataframe tbody tr th {\n",
       "        vertical-align: top;\n",
       "    }\n",
       "\n",
       "    .dataframe thead th {\n",
       "        text-align: right;\n",
       "    }\n",
       "</style>\n",
       "<table border=\"1\" class=\"dataframe\">\n",
       "  <thead>\n",
       "    <tr style=\"text-align: right;\">\n",
       "      <th></th>\n",
       "      <th>country_id</th>\n",
       "      <th>country</th>\n",
       "    </tr>\n",
       "  </thead>\n",
       "  <tbody>\n",
       "    <tr>\n",
       "      <th>0</th>\n",
       "      <td>0</td>\n",
       "      <td>Albania</td>\n",
       "    </tr>\n",
       "    <tr>\n",
       "      <th>1</th>\n",
       "      <td>1</td>\n",
       "      <td>Austria</td>\n",
       "    </tr>\n",
       "    <tr>\n",
       "      <th>2</th>\n",
       "      <td>2</td>\n",
       "      <td>Belarus</td>\n",
       "    </tr>\n",
       "    <tr>\n",
       "      <th>3</th>\n",
       "      <td>3</td>\n",
       "      <td>Belgium</td>\n",
       "    </tr>\n",
       "    <tr>\n",
       "      <th>4</th>\n",
       "      <td>4</td>\n",
       "      <td>Bosnia and Herzegovina</td>\n",
       "    </tr>\n",
       "  </tbody>\n",
       "</table>\n",
       "</div>"
      ],
      "text/plain": [
       "   country_id                 country\n",
       "0           0                 Albania\n",
       "1           1                 Austria\n",
       "2           2                 Belarus\n",
       "3           3                 Belgium\n",
       "4           4  Bosnia and Herzegovina"
      ]
     },
     "execution_count": 7,
     "metadata": {},
     "output_type": "execute_result"
    }
   ],
   "source": [
    "country_city_df = pd.read_csv(os.path.join('data','countries_cities.csv'))\n",
    "country_df = pd.DataFrame(country_city_df['country'].unique()).reset_index()\n",
    "country_df.columns = ['country_id', 'country']\n",
    "country_df.head()"
   ]
  },
  {
   "cell_type": "code",
   "execution_count": 8,
   "metadata": {
    "tags": []
   },
   "outputs": [
    {
     "data": {
      "text/html": [
       "<div>\n",
       "<style scoped>\n",
       "    .dataframe tbody tr th:only-of-type {\n",
       "        vertical-align: middle;\n",
       "    }\n",
       "\n",
       "    .dataframe tbody tr th {\n",
       "        vertical-align: top;\n",
       "    }\n",
       "\n",
       "    .dataframe thead th {\n",
       "        text-align: right;\n",
       "    }\n",
       "</style>\n",
       "<table border=\"1\" class=\"dataframe\">\n",
       "  <thead>\n",
       "    <tr style=\"text-align: right;\">\n",
       "      <th></th>\n",
       "      <th>city_id</th>\n",
       "      <th>country_id</th>\n",
       "      <th>city</th>\n",
       "    </tr>\n",
       "  </thead>\n",
       "  <tbody>\n",
       "    <tr>\n",
       "      <th>0</th>\n",
       "      <td>0</td>\n",
       "      <td>0</td>\n",
       "      <td>Apollonia</td>\n",
       "    </tr>\n",
       "    <tr>\n",
       "      <th>1</th>\n",
       "      <td>1</td>\n",
       "      <td>0</td>\n",
       "      <td>Ballsh</td>\n",
       "    </tr>\n",
       "    <tr>\n",
       "      <th>2</th>\n",
       "      <td>2</td>\n",
       "      <td>0</td>\n",
       "      <td>Berat</td>\n",
       "    </tr>\n",
       "    <tr>\n",
       "      <th>3</th>\n",
       "      <td>3</td>\n",
       "      <td>0</td>\n",
       "      <td>Burrel</td>\n",
       "    </tr>\n",
       "    <tr>\n",
       "      <th>4</th>\n",
       "      <td>4</td>\n",
       "      <td>0</td>\n",
       "      <td>Dhermi</td>\n",
       "    </tr>\n",
       "  </tbody>\n",
       "</table>\n",
       "</div>"
      ],
      "text/plain": [
       "   city_id  country_id       city\n",
       "0        0           0  Apollonia\n",
       "1        1           0     Ballsh\n",
       "2        2           0      Berat\n",
       "3        3           0     Burrel\n",
       "4        4           0     Dhermi"
      ]
     },
     "execution_count": 8,
     "metadata": {},
     "output_type": "execute_result"
    }
   ],
   "source": [
    "country_city =pd.merge(country_city_df, country_df, left_on='country', right_on='country')\n",
    "city_df = pd.DataFrame(country_city[['country_id','city']]).reset_index()\n",
    "city_df.columns = ['city_id', 'country_id','city']\n",
    "city_df.head()\n"
   ]
  },
  {
   "cell_type": "markdown",
   "metadata": {},
   "source": [
    "Reading data from `numbeo.json`"
   ]
  },
  {
   "cell_type": "code",
   "execution_count": 9,
   "metadata": {
    "tags": []
   },
   "outputs": [],
   "source": [
    "with open(os.path.join('data','numbeo.json'), 'r') as f:\n",
    "    city_json = json.load(f)\n",
    "\n",
    "country_city_dict = {}    \n",
    "for country in city_json:\n",
    "    country_city_dict[country] ={}\n",
    "    for city in city_json[country]:\n",
    "        df = pd.DataFrame.from_dict(city_json[country][city])\n",
    "        df.index = df.index.astype(np.int64)\n",
    "        country_city_dict[country][city] = df"
   ]
  },
  {
   "cell_type": "markdown",
   "metadata": {},
   "source": [
    "Noticed a problem where the 'Avg_price.' columns were incorrectly filled in. Data need to be cleaned."
   ]
  },
  {
   "cell_type": "code",
   "execution_count": 10,
   "metadata": {},
   "outputs": [
    {
     "data": {
      "text/html": [
       "<div>\n",
       "<style scoped>\n",
       "    .dataframe tbody tr th:only-of-type {\n",
       "        vertical-align: middle;\n",
       "    }\n",
       "\n",
       "    .dataframe tbody tr th {\n",
       "        vertical-align: top;\n",
       "    }\n",
       "\n",
       "    .dataframe thead th {\n",
       "        text-align: right;\n",
       "    }\n",
       "</style>\n",
       "<table border=\"1\" class=\"dataframe\">\n",
       "  <thead>\n",
       "    <tr style=\"text-align: right;\">\n",
       "      <th></th>\n",
       "      <th>Type</th>\n",
       "      <th>Avg_price</th>\n",
       "      <th>Range_price</th>\n",
       "    </tr>\n",
       "  </thead>\n",
       "  <tbody>\n",
       "    <tr>\n",
       "      <th>0</th>\n",
       "      <td>Meal, Inexpensive Restaurant</td>\n",
       "      <td>9.22 €</td>\n",
       "      <td>6.91-13.83</td>\n",
       "    </tr>\n",
       "    <tr>\n",
       "      <th>1</th>\n",
       "      <td>Meal for 2 People, Mid-range Restaurant, Three...</td>\n",
       "      <td>46.09 €</td>\n",
       "      <td>32.26-69.13</td>\n",
       "    </tr>\n",
       "    <tr>\n",
       "      <th>2</th>\n",
       "      <td>McMeal at McDonalds (or Equivalent Combo Meal)</td>\n",
       "      <td>7.37 €</td>\n",
       "      <td>6.91-8.53</td>\n",
       "    </tr>\n",
       "    <tr>\n",
       "      <th>3</th>\n",
       "      <td>Domestic Beer (0.5 liter draught)</td>\n",
       "      <td>3.69 €</td>\n",
       "      <td>2.30-4.61</td>\n",
       "    </tr>\n",
       "    <tr>\n",
       "      <th>4</th>\n",
       "      <td>Imported Beer (0.33 liter bottle)</td>\n",
       "      <td>3.46 €</td>\n",
       "      <td>2.77-4.84</td>\n",
       "    </tr>\n",
       "    <tr>\n",
       "      <th>5</th>\n",
       "      <td>Cappuccino (regular)</td>\n",
       "      <td>3.21 €</td>\n",
       "      <td>1.84-4.61</td>\n",
       "    </tr>\n",
       "    <tr>\n",
       "      <th>6</th>\n",
       "      <td>Coke/Pepsi (0.33 liter bottle)</td>\n",
       "      <td>1.62 €</td>\n",
       "      <td>1.04-2.77</td>\n",
       "    </tr>\n",
       "    <tr>\n",
       "      <th>7</th>\n",
       "      <td>Water (0.33 liter bottle)</td>\n",
       "      <td>1.54 €</td>\n",
       "      <td>0.69-2.77</td>\n",
       "    </tr>\n",
       "    <tr>\n",
       "      <th>8</th>\n",
       "      <td>Markets</td>\n",
       "      <td>Edit</td>\n",
       "      <td>None</td>\n",
       "    </tr>\n",
       "    <tr>\n",
       "      <th>9</th>\n",
       "      <td>Milk (regular), (1 liter)</td>\n",
       "      <td>0.95 €</td>\n",
       "      <td>0.69-1.15</td>\n",
       "    </tr>\n",
       "  </tbody>\n",
       "</table>\n",
       "</div>"
      ],
      "text/plain": [
       "                                                Type Avg_price  Range_price\n",
       "0                       Meal, Inexpensive Restaurant    9.22 €   6.91-13.83\n",
       "1  Meal for 2 People, Mid-range Restaurant, Three...   46.09 €  32.26-69.13\n",
       "2     McMeal at McDonalds (or Equivalent Combo Meal)    7.37 €    6.91-8.53\n",
       "3                  Domestic Beer (0.5 liter draught)    3.69 €    2.30-4.61\n",
       "4                  Imported Beer (0.33 liter bottle)    3.46 €    2.77-4.84\n",
       "5                               Cappuccino (regular)    3.21 €    1.84-4.61\n",
       "6                     Coke/Pepsi (0.33 liter bottle)    1.62 €    1.04-2.77\n",
       "7                          Water (0.33 liter bottle)    1.54 €    0.69-2.77\n",
       "8                                            Markets      Edit         None\n",
       "9                          Milk (regular), (1 liter)    0.95 €    0.69-1.15"
      ]
     },
     "execution_count": 10,
     "metadata": {},
     "output_type": "execute_result"
    }
   ],
   "source": [
    "country_city_dict['Poland']['Warsaw'].head(10)"
   ]
  },
  {
   "cell_type": "code",
   "execution_count": 11,
   "metadata": {
    "tags": []
   },
   "outputs": [
    {
     "data": {
      "text/html": [
       "<div>\n",
       "<style scoped>\n",
       "    .dataframe tbody tr th:only-of-type {\n",
       "        vertical-align: middle;\n",
       "    }\n",
       "\n",
       "    .dataframe tbody tr th {\n",
       "        vertical-align: top;\n",
       "    }\n",
       "\n",
       "    .dataframe thead th {\n",
       "        text-align: right;\n",
       "    }\n",
       "</style>\n",
       "<table border=\"1\" class=\"dataframe\">\n",
       "  <thead>\n",
       "    <tr style=\"text-align: right;\">\n",
       "      <th>Type</th>\n",
       "      <th>index</th>\n",
       "      <th>Apartment(1bedroom)inCityCentre</th>\n",
       "      <th>Apartment(1bedroom)OutsideofCentre</th>\n",
       "      <th>Apartment(3bedrooms)inCityCentre</th>\n",
       "      <th>Apartment(3bedrooms)OutsideofCentre</th>\n",
       "    </tr>\n",
       "  </thead>\n",
       "  <tbody>\n",
       "    <tr>\n",
       "      <th>0</th>\n",
       "      <td>Avg_price</td>\n",
       "      <td>98832</td>\n",
       "      <td>74970</td>\n",
       "      <td>172884</td>\n",
       "      <td>126594</td>\n",
       "    </tr>\n",
       "  </tbody>\n",
       "</table>\n",
       "</div>"
      ],
      "text/plain": [
       "Type      index  Apartment(1bedroom)inCityCentre  \\\n",
       "0     Avg_price                            98832   \n",
       "\n",
       "Type  Apartment(1bedroom)OutsideofCentre  Apartment(3bedrooms)inCityCentre  \\\n",
       "0                                  74970                            172884   \n",
       "\n",
       "Type  Apartment(3bedrooms)OutsideofCentre  \n",
       "0                                  126594  "
      ]
     },
     "execution_count": 11,
     "metadata": {},
     "output_type": "execute_result"
    }
   ],
   "source": [
    "dict_type =h.separate_types(country_city_dict=country_city_dict, country='Poland',city='Warsaw',item='Rent Per Month')\n",
    "separate_types_df = dict_type['Rent Per Month'].set_index('Type')\n",
    "df_t = separate_types_df['Avg_price'].to_frame().T.reset_index()\n",
    "df_t"
   ]
  },
  {
   "cell_type": "markdown",
   "metadata": {},
   "source": [
    "Creating `categories` table"
   ]
  },
  {
   "cell_type": "code",
   "execution_count": 12,
   "metadata": {
    "tags": []
   },
   "outputs": [],
   "source": [
    "df = country_city_dict['Poland']['Warsaw']\n",
    "categories = df.loc[df['Avg_price']=='Edit'].Type.to_frame(name = 'name')\n",
    "categories.reset_index(inplace=True)\n",
    "categories.columns = ['category_id', 'name']"
   ]
  },
  {
   "cell_type": "markdown",
   "metadata": {},
   "source": [
    "Preparing dataframe for selected categories: Rent Per Month, Buy Apartment Price, Salaries And Financing\n",
    "\n",
    "\n",
    "For the sake of further analysis on the cost of renting/buying an apartment, I will only focus on 3 categories. "
   ]
  },
  {
   "cell_type": "code",
   "execution_count": 13,
   "metadata": {
    "tags": []
   },
   "outputs": [],
   "source": [
    "avg_rent_df= pd.DataFrame()\n",
    "avg_buy_apartment_df= pd.DataFrame()\n",
    "avg_salaries_df = pd.DataFrame()\n",
    "item_names = ['Rent Per Month', 'Buy Apartment Price','Salaries And Financing']\n",
    "\n",
    "for country in country_city_dict.keys():\n",
    "    for city in country_city_dict[country].keys():\n",
    "        avg_rent_df= pd.concat([h.prepare_df(country_city_dict=country_city_dict, \n",
    "                            country_city_df=country_city_df,\n",
    "                            categories=categories,\n",
    "                            country=country,\n",
    "                            city=city,\n",
    "                            item=item_names[0]\n",
    "                            ), avg_rent_df])\n",
    "\n",
    "        avg_buy_apartment_df= pd.concat([h.prepare_df(country_city_dict=country_city_dict, \n",
    "                            country_city_df=country_city_df,\n",
    "                            categories=categories,\n",
    "                            country=country,\n",
    "                            city=city,\n",
    "                            item=item_names[1]\n",
    "                            ), avg_buy_apartment_df])\n",
    "\n",
    "        avg_salaries_df= pd.concat([h.prepare_df(country_city_dict=country_city_dict, \n",
    "                            country_city_df=country_city_df,\n",
    "                            categories=categories,\n",
    "                            country=country,\n",
    "                            city=city,\n",
    "                            item=item_names[2]\n",
    "                            ), avg_salaries_df])\n",
    "    "
   ]
  },
  {
   "cell_type": "code",
   "execution_count": 14,
   "metadata": {},
   "outputs": [],
   "source": [
    "avg_rent_df.columns = ['category_id', 'apartment_1_bedroom_in_city_centre',\n",
    "       'apartment_1_bedroom_outside_of_centre',\n",
    "       'apartment_3bedrooms_in_city_centre',\n",
    "       'apartment_3bedrooms_outside_of_centre']\n",
    "\n",
    "avg_buy_apartment_df.columns = ['category_id', 'price_per_square_meter_in_city_centre',\n",
    "       'price_per_square_meter_outside_of_centre']\n",
    "\n",
    "avg_salaries_df.columns = ['category_id', 'average_monthly_net_salary',\n",
    "       'mortgage_interest_rate_in_percentages']"
   ]
  },
  {
   "cell_type": "code",
   "execution_count": 15,
   "metadata": {},
   "outputs": [],
   "source": [
    "idx_cracow = city_df.loc[city_df['city']=='Krakow (Cracow)'].index.item()\n",
    "city_df.at[idx_cracow, 'city']='Krakow'"
   ]
  },
  {
   "cell_type": "markdown",
   "metadata": {},
   "source": [
    "Saving dataframe to database"
   ]
  },
  {
   "cell_type": "code",
   "execution_count": 16,
   "metadata": {},
   "outputs": [
    {
     "data": {
      "text/plain": [
       "2346"
      ]
     },
     "execution_count": 16,
     "metadata": {},
     "output_type": "execute_result"
    }
   ],
   "source": [
    "categories.to_sql(name='categories', con=conn, if_exists='replace')\n",
    "country_df.to_sql(name='countries', con=conn, if_exists='replace')\n",
    "city_df.to_sql(name='cities', con=conn, if_exists='replace')\n",
    "avg_rent_df.to_sql(name='rents', con=conn, if_exists='replace')\n",
    "avg_buy_apartment_df.to_sql(name='buy_apartments', con=conn, if_exists='replace')\n",
    "avg_salaries_df.to_sql(name='salaries', con=conn, if_exists='replace')"
   ]
  }
 ],
 "metadata": {
  "kernelspec": {
   "display_name": "Python 3 (ipykernel)",
   "language": "python",
   "name": "python3"
  },
  "language_info": {
   "codemirror_mode": {
    "name": "ipython",
    "version": 3
   },
   "file_extension": ".py",
   "mimetype": "text/x-python",
   "name": "python",
   "nbconvert_exporter": "python",
   "pygments_lexer": "ipython3",
   "version": "3.11.6"
  },
  "vscode": {
   "interpreter": {
    "hash": "99c435906d8ca7c6f2d3d2279a10f4c431b8c9e1638bc4a26f26658d878afc41"
   }
  }
 },
 "nbformat": 4,
 "nbformat_minor": 4
}
