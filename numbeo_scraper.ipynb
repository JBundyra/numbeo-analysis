{
 "cells": [
  {
   "cell_type": "code",
   "execution_count": 39,
   "metadata": {},
   "outputs": [],
   "source": [
    "import helpers as h\n",
    "import json\n",
    "import numpy as np\n",
    "import os\n",
    "import pandas as pd\n",
    "import sqlite3\n",
    "import sys\n",
    "\n",
    "from tqdm import tqdm"
   ]
  },
  {
   "cell_type": "markdown",
   "metadata": {},
   "source": [
    "Load population figures for European countries. Data source: https://worldpopulationreview.com/continents/europe/cities\n",
    "\n",
    "The aim of the project is to compare the standard of living in European cities. Therefore, due to the fact that Russia's territory within Europe is small-Russian cities were excluded from further analysis."
   ]
  },
  {
   "cell_type": "code",
   "execution_count": 43,
   "metadata": {},
   "outputs": [],
   "source": [
    "population_df = pd.read_csv('table_data.csv')\n",
    "\n",
    "selected_country_df = (population_df\n",
    "    .sort_values(\n",
    "        by=['country', 'population'], \n",
    "        ascending=[True,False]\n",
    "    ))\n",
    "    \n",
    "selected_country_df = selected_country_df.loc[selected_country_df['country']!='Russia']\n",
    "selected_country_df.to_csv(os.path.join('data','selected_countries.csv'))"
   ]
  },
  {
   "cell_type": "markdown",
   "metadata": {},
   "source": [
    "A list of cities and countries with data was downloaded from numbeo.com. The list is extracted based on the population table data from the previous step."
   ]
  },
  {
   "cell_type": "code",
   "execution_count": 41,
   "metadata": {},
   "outputs": [
    {
     "name": "stderr",
     "output_type": "stream",
     "text": [
      "  0%|          | 0/36 [00:00<?, ?it/s]\r  3%|▎         | 1/36 [00:00<00:28,  1.25it/s]\r  6%|▌         | 2/36 [00:01<00:27,  1.24it/s]\r  8%|▊         | 3/36 [00:02<00:26,  1.25it/s]\r 11%|█         | 4/36 [00:03<00:28,  1.13it/s]\r 14%|█▍        | 5/36 [00:04<00:28,  1.11it/s]\r 17%|█▋        | 6/36 [00:05<00:26,  1.15it/s]\r 19%|█▉        | 7/36 [00:06<00:24,  1.16it/s]\r 22%|██▏       | 8/36 [00:06<00:23,  1.19it/s]\r 25%|██▌       | 9/36 [00:07<00:23,  1.15it/s]\r 28%|██▊       | 10/36 [00:08<00:24,  1.07it/s]\r 31%|███       | 11/36 [00:09<00:22,  1.12it/s]\r 33%|███▎      | 12/36 [00:10<00:20,  1.17it/s]\r 36%|███▌      | 13/36 [00:11<00:20,  1.12it/s]\r 39%|███▉      | 14/36 [00:12<00:20,  1.08it/s]\r 42%|████▏     | 15/36 [00:13<00:18,  1.12it/s]\r 44%|████▍     | 16/36 [00:14<00:17,  1.14it/s]\r 47%|████▋     | 17/36 [00:15<00:17,  1.09it/s]\r 50%|█████     | 18/36 [00:15<00:16,  1.07it/s]\r 53%|█████▎    | 19/36 [00:16<00:15,  1.07it/s]\r 56%|█████▌    | 20/36 [00:17<00:14,  1.12it/s]\r 58%|█████▊    | 21/36 [00:18<00:13,  1.10it/s]\r 61%|██████    | 22/36 [00:19<00:12,  1.14it/s]\r 64%|██████▍   | 23/36 [00:20<00:11,  1.18it/s]\r 67%|██████▋   | 24/36 [00:21<00:09,  1.21it/s]\r 69%|██████▉   | 25/36 [00:21<00:09,  1.22it/s]\r 72%|███████▏  | 26/36 [00:22<00:08,  1.16it/s]\r 75%|███████▌  | 27/36 [00:23<00:07,  1.18it/s]\r 78%|███████▊  | 28/36 [00:24<00:06,  1.21it/s]\r 81%|████████  | 29/36 [00:25<00:05,  1.21it/s]\r 83%|████████▎ | 30/36 [00:26<00:05,  1.13it/s]\r 86%|████████▌ | 31/36 [00:27<00:04,  1.16it/s]\r 89%|████████▉ | 32/36 [00:28<00:03,  1.12it/s]\r 92%|█████████▏| 33/36 [00:28<00:02,  1.14it/s]\r 94%|█████████▍| 34/36 [00:29<00:01,  1.17it/s]\r 97%|█████████▋| 35/36 [00:30<00:00,  1.19it/s]\r100%|██████████| 36/36 [00:31<00:00,  1.12it/s]\r100%|██████████| 36/36 [00:31<00:00,  1.14it/s]\n"
     ]
    },
    {
     "data": {
      "text/html": [
       "<div>\n",
       "<style scoped>\n",
       "    .dataframe tbody tr th:only-of-type {\n",
       "        vertical-align: middle;\n",
       "    }\n",
       "\n",
       "    .dataframe tbody tr th {\n",
       "        vertical-align: top;\n",
       "    }\n",
       "\n",
       "    .dataframe thead th {\n",
       "        text-align: right;\n",
       "    }\n",
       "</style>\n",
       "<table border=\"1\" class=\"dataframe\">\n",
       "  <thead>\n",
       "    <tr style=\"text-align: right;\">\n",
       "      <th></th>\n",
       "      <th>country</th>\n",
       "      <th>city</th>\n",
       "    </tr>\n",
       "  </thead>\n",
       "  <tbody>\n",
       "    <tr>\n",
       "      <th>0</th>\n",
       "      <td>Albania</td>\n",
       "      <td>Apollonia</td>\n",
       "    </tr>\n",
       "    <tr>\n",
       "      <th>1</th>\n",
       "      <td>Albania</td>\n",
       "      <td>Ballsh</td>\n",
       "    </tr>\n",
       "    <tr>\n",
       "      <th>2</th>\n",
       "      <td>Albania</td>\n",
       "      <td>Berat</td>\n",
       "    </tr>\n",
       "    <tr>\n",
       "      <th>3</th>\n",
       "      <td>Albania</td>\n",
       "      <td>Burrel</td>\n",
       "    </tr>\n",
       "    <tr>\n",
       "      <th>4</th>\n",
       "      <td>Albania</td>\n",
       "      <td>Dhermi</td>\n",
       "    </tr>\n",
       "  </tbody>\n",
       "</table>\n",
       "</div>"
      ],
      "text/plain": [
       "   country       city\n",
       "0  Albania  Apollonia\n",
       "1  Albania     Ballsh\n",
       "2  Albania      Berat\n",
       "3  Albania     Burrel\n",
       "4  Albania     Dhermi"
      ]
     },
     "execution_count": 41,
     "metadata": {},
     "output_type": "execute_result"
    }
   ],
   "source": [
    "numbeo_url = 'https://www.numbeo.com/cost-of-living'\n",
    "numbeo = h.get_content_url(page_url=numbeo_url)\n",
    "\n",
    "europe_country = selected_country_df.country.unique()\n",
    "\n",
    "country_city = []\n",
    "for country in tqdm(europe_country):\n",
    "\n",
    "    country_url = f'{numbeo_url}/country_result.jsp?country={country}'\n",
    "    country_soup = h.get_content_url(page_url=country_url)\n",
    "\n",
    "    city_select = country_soup.find(\"select\",{\"name\":\"city\"}) \n",
    "    city_list = city_select.find_all('option')\n",
    "    for city in city_list:\n",
    "        if city.text != '--- Select city---':\n",
    "            country_city.append((country,city.text.strip()))\n",
    "country_city_df = pd.DataFrame(country_city, columns=('country', 'city'))\n",
    "country_city_df.head(5)"
   ]
  },
  {
   "cell_type": "code",
   "execution_count": 44,
   "metadata": {},
   "outputs": [],
   "source": [
    "country_city_df.to_csv(os.path.join('data','countries_cities.csv'))"
   ]
  },
  {
   "cell_type": "markdown",
   "metadata": {},
   "source": [
    "Downloading data from numbeo.com and then saving it as a data dictionary {state: {city: data}}'. During data acquisition, a problem was noticed regarding the local currency, and for this reason it was decided to download the data in Euros."
   ]
  },
  {
   "cell_type": "code",
   "execution_count": null,
   "metadata": {},
   "outputs": [],
   "source": [
    "country_city_dict = {}\n",
    "\n",
    "for _, country, city in tqdm(list(country_city_df.itertuples())):\n",
    "    city_url = f'{numbeo_url}/in/{city}'\n",
    "    city_soup = h.get_content_url(city_url)\n",
    "    city_dict = {}\n",
    "    if 'These cities seems to have a name similar' in city_soup.find('p').text:\n",
    "        for a in city_soup.select('p a', href=True): \n",
    "            if a.text and country in a.text: \n",
    "                city_url_eur = a['href'] + '?displayCurrency=EUR'\n",
    "    else:\n",
    "        city_url_eur = city_url + '?displayCurrency=EUR'\n",
    "\n",
    "    city_soup = h.get_content_url(city_url_eur)\n",
    "\n",
    "    if country in country_city_dict:\n",
    "        city_dict = country_city_dict[country]\n",
    "    else:\n",
    "        city_dict = {}\n",
    "        country_city_dict[country] = city_dict\n",
    "\n",
    "    city_dict[city] = h.get_data_from_table(\n",
    "        city_soup,\n",
    "        converters={\n",
    "            'Restaurants': str,\n",
    "            'Edit': str,\n",
    "            'Range': str\n",
    "        }\n",
    "    ).rename(\n",
    "        columns={\n",
    "            'Restaurants': 'Type',\n",
    "            'Edit': 'Avg_price',\n",
    "            'Range': 'Range_price'\n",
    "        }\n",
    "    )"
   ]
  },
  {
   "cell_type": "markdown",
   "metadata": {},
   "source": [
    "Due to the long time of data retrieval, saved the obtained result in a .json file. This way we keep a backup of the data."
   ]
  },
  {
   "cell_type": "code",
   "execution_count": null,
   "metadata": {},
   "outputs": [],
   "source": [
    "city_json = {}\n",
    "\n",
    "for country in country_city_dict:\n",
    "    city_json[country] ={}\n",
    "    for city in country_city_dict[country]:\n",
    "        city_json[country][city] = json.loads(country_city_dict[country][city].to_json())\n",
    "\n",
    "with open(os.path.join('data','numbeo.json'), 'w') as f:\n",
    "    json.dump(city_json, f)"
   ]
  }
 ],
 "metadata": {
  "kernelspec": {
   "display_name": "Numbeo_project-JyGUw92n",
   "language": "python",
   "name": "python3"
  },
  "language_info": {
   "name": "python",
   "version": "3.11.6 (main, Nov 14 2023, 09:36:21) [GCC 13.2.1 20230801]"
  },
  "orig_nbformat": 4,
  "vscode": {
   "interpreter": {
    "hash": "99c435906d8ca7c6f2d3d2279a10f4c431b8c9e1638bc4a26f26658d878afc41"
   }
  }
 },
 "nbformat": 4,
 "nbformat_minor": 2
}
